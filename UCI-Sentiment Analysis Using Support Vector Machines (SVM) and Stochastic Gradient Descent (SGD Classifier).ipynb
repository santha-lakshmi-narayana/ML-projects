{
 "cells": [
  {
   "cell_type": "markdown",
   "metadata": {},
   "source": [
    "## Import Libraries"
   ]
  },
  {
   "cell_type": "code",
   "execution_count": 1,
   "metadata": {},
   "outputs": [],
   "source": [
    "import numpy as np\n",
    "import pandas as pd\n",
    "import time\n",
    "import string"
   ]
  },
  {
   "cell_type": "markdown",
   "metadata": {},
   "source": [
    "## Import UCI-Sentiment Labelled Dataset \n",
    "__[Click here to download](https://archive.ics.uci.edu/ml/datasets/Sentiment+Labelled+Sentences)__"
   ]
  },
  {
   "cell_type": "markdown",
   "metadata": {},
   "source": [
    "##### This data set contains sentences from 3 sources\n",
    "- *Amazon*\n",
    "- *Imdb*\n",
    "- *Yelp*"
   ]
  },
  {
   "cell_type": "code",
   "execution_count": 2,
   "metadata": {},
   "outputs": [],
   "source": [
    "amz=pd.read_csv(\"amazon.txt\",delimiter=\"\\t\",header=None)\n",
    "imdb=pd.read_csv(\"imdb.txt\",delimiter=\"\\t\",header=None)\n",
    "yelp=pd.read_csv(\"yelp.txt\",delimiter=\"\\t\",header=None)"
   ]
  },
  {
   "cell_type": "code",
   "execution_count": 3,
   "metadata": {},
   "outputs": [],
   "source": [
    "columns=['Sentence','Review']"
   ]
  },
  {
   "cell_type": "code",
   "execution_count": 4,
   "metadata": {},
   "outputs": [],
   "source": [
    "_=amz.columns=columns\n",
    "_=imdb.columns=columns\n",
    "_=yelp.columns=columns"
   ]
  },
  {
   "cell_type": "code",
   "execution_count": 5,
   "metadata": {},
   "outputs": [],
   "source": [
    "amz.index=[i for i in range(1,amz.shape[0]+1)]\n",
    "imdb.index=[i for i in range(1,imdb.shape[0]+1)]\n",
    "yelp.index=[i for i in range(1,yelp.shape[0]+1)]"
   ]
  },
  {
   "cell_type": "markdown",
   "metadata": {},
   "source": [
    "## Merge all sentences into single dataframe"
   ]
  },
  {
   "cell_type": "code",
   "execution_count": 6,
   "metadata": {},
   "outputs": [],
   "source": [
    "sent=pd.concat([amz,imdb,yelp])"
   ]
  },
  {
   "cell_type": "code",
   "execution_count": 7,
   "metadata": {},
   "outputs": [],
   "source": [
    "sent.reset_index(drop=True,inplace=True)"
   ]
  },
  {
   "cell_type": "code",
   "execution_count": 8,
   "metadata": {},
   "outputs": [],
   "source": [
    "from sklearn.utils import shuffle\n",
    "sent=shuffle(sent)"
   ]
  },
  {
   "cell_type": "code",
   "execution_count": 9,
   "metadata": {},
   "outputs": [],
   "source": [
    "sent[\"Id\"]=[i for i in range(1,sent.shape[0]+1)]"
   ]
  },
  {
   "cell_type": "code",
   "execution_count": 10,
   "metadata": {},
   "outputs": [],
   "source": [
    "sent.index=sent[\"Id\"]\n",
    "sent.drop([\"Id\"],axis=1,inplace=True)"
   ]
  },
  {
   "cell_type": "code",
   "execution_count": 11,
   "metadata": {},
   "outputs": [],
   "source": [
    "for i in range(1,sent.shape[0]+1):\n",
    "    if sent.at[i,\"Review\"] == 0:\n",
    "        sent.at[i,\"Review\"]=-1"
   ]
  },
  {
   "cell_type": "code",
   "execution_count": 12,
   "metadata": {},
   "outputs": [],
   "source": [
    "for i in range(1,sent.shape[0]+1):\n",
    "    sent.at[i,\"Sentence\"]=sent.at[i,\"Sentence\"].strip().lower()"
   ]
  },
  {
   "cell_type": "markdown",
   "metadata": {},
   "source": [
    "## Split dataset into Sentences and labels"
   ]
  },
  {
   "cell_type": "code",
   "execution_count": 13,
   "metadata": {},
   "outputs": [],
   "source": [
    "se=np.array(sent[\"Sentence\"])\n",
    "rev=np.array(sent[\"Review\"])"
   ]
  },
  {
   "cell_type": "code",
   "execution_count": 14,
   "metadata": {},
   "outputs": [],
   "source": [
    "rev=rev.astype('int8')"
   ]
  },
  {
   "cell_type": "markdown",
   "metadata": {},
   "source": [
    "## Preprocess data\n",
    "1.Remove Digits <br>\n",
    "2.Remove Punctuations <br>\n",
    "3.Remvoe Stop Words"
   ]
  },
  {
   "cell_type": "code",
   "execution_count": 15,
   "metadata": {},
   "outputs": [],
   "source": [
    "punc_list=list(string.punctuation)"
   ]
  },
  {
   "cell_type": "code",
   "execution_count": 16,
   "metadata": {},
   "outputs": [],
   "source": [
    "stop_list=[ \"a\", \"about\", \"above\", \"after\", \"again\", \"against\", \"all\", \"am\", \"an\", \"and\", \"any\", \"are\", \"as\", \"at\", \"be\", \"because\", \"been\", \"before\", \"being\", \"below\", \"between\", \"both\", \"but\", \"by\", \"could\", \"did\", \"do\", \"does\", \"doing\", \"down\", \"during\", \"each\", \"few\", \"for\", \"from\", \"further\", \"had\", \"has\", \"have\", \"having\", \"he\", \"he'd\", \"he'll\", \"he's\", \"her\", \"here\", \"here's\", \"hers\", \"herself\", \"him\", \"himself\", \"his\", \"how\", \"how's\", \"i\", \"i'd\", \"i'll\", \"i'm\", \"i've\", \"if\", \"in\", \"into\", \"is\", \"it\", \"it's\", \"its\", \"itself\", \"let's\", \"me\", \"more\", \"most\", \"my\", \"myself\", \"nor\", \"of\", \"on\", \"once\", \"only\", \"or\", \"other\", \"ought\", \"our\", \"ours\", \"ourselves\", \"out\", \"over\", \"own\", \"same\", \"she\", \"she'd\", \"she'll\", \"she's\", \"should\", \"so\", \"some\", \"such\", \"than\", \"that\", \"that's\", \"the\", \"their\", \"theirs\", \"them\", \"themselves\", \"then\", \"there\", \"there's\", \"these\", \"they\", \"they'd\", \"they'll\", \"they're\", \"they've\", \"this\", \"those\", \"through\", \"to\", \"too\", \"under\", \"until\", \"up\", \"very\", \"was\", \"we\", \"we'd\", \"we'll\", \"we're\", \"we've\", \"were\", \"what\", \"what's\", \"when\", \"when's\", \"where\", \"where's\", \"which\", \"while\", \"who\", \"who's\", \"whom\", \"why\", \"why's\", \"with\", \"would\", \"you\", \"you'd\", \"you'll\", \"you're\", \"you've\", \"your\", \"yours\", \"yourself\", \"yourselves\" ]"
   ]
  },
  {
   "cell_type": "code",
   "execution_count": 17,
   "metadata": {},
   "outputs": [],
   "source": [
    "import re"
   ]
  },
  {
   "cell_type": "code",
   "execution_count": 18,
   "metadata": {},
   "outputs": [],
   "source": [
    "def rm_dig(l):\n",
    "    ll=[]\n",
    "    for i in range(len(l)):\n",
    "        x=re.sub(r\"\\d+\",' ',l[i])\n",
    "        x=re.sub(r\"\\s+\",' ',x)\n",
    "        ll.append(x.strip())\n",
    "    return ll"
   ]
  },
  {
   "cell_type": "code",
   "execution_count": 19,
   "metadata": {},
   "outputs": [],
   "source": [
    "se_digit_less=rm_dig(se)"
   ]
  },
  {
   "cell_type": "code",
   "execution_count": 20,
   "metadata": {},
   "outputs": [],
   "source": [
    "def rm_punc(l,rl):\n",
    "    for w in rl:\n",
    "        l=l.replace(w,' ')\n",
    "        l=re.sub('\\s+',' ',l)\n",
    "    return l\n",
    "se_punc_less=[rm_punc(l,punc_list) for l in se_digit_less ]"
   ]
  },
  {
   "cell_type": "code",
   "execution_count": 21,
   "metadata": {},
   "outputs": [],
   "source": [
    "def rm(l,rl):\n",
    "    re=[]\n",
    "    for i in range(len(l)):\n",
    "        ll=l[i].strip().split(\" \")\n",
    "        lr=[i for i in ll if i not in rl]\n",
    "        re.append(\" \".join(lr))\n",
    "    return re"
   ]
  },
  {
   "cell_type": "code",
   "execution_count": 22,
   "metadata": {},
   "outputs": [],
   "source": [
    "se_clear=rm(se_punc_less,stop_list)"
   ]
  },
  {
   "cell_type": "markdown",
   "metadata": {},
   "source": [
    "## Apply Tf-Idf Vectorization on preprocessed data set"
   ]
  },
  {
   "cell_type": "code",
   "execution_count": 23,
   "metadata": {},
   "outputs": [],
   "source": [
    "from sklearn.feature_extraction.text import TfidfVectorizer"
   ]
  },
  {
   "cell_type": "code",
   "execution_count": 24,
   "metadata": {},
   "outputs": [],
   "source": [
    "vectorizer=TfidfVectorizer(analyzer=\"word\",tokenizer=None,preprocessor=None,lowercase=False,stop_words=None,max_features=4500)"
   ]
  },
  {
   "cell_type": "code",
   "execution_count": 25,
   "metadata": {},
   "outputs": [],
   "source": [
    "X=vectorizer.fit_transform(se)"
   ]
  },
  {
   "cell_type": "code",
   "execution_count": 26,
   "metadata": {},
   "outputs": [],
   "source": [
    "X_mat=X.toarray()"
   ]
  },
  {
   "cell_type": "code",
   "execution_count": 27,
   "metadata": {},
   "outputs": [
    {
     "data": {
      "text/plain": [
       "(2748, 4500)"
      ]
     },
     "execution_count": 27,
     "metadata": {},
     "output_type": "execute_result"
    }
   ],
   "source": [
    "X_mat.shape"
   ]
  },
  {
   "cell_type": "markdown",
   "metadata": {},
   "source": [
    "## Split dataset into training and testing sets"
   ]
  },
  {
   "cell_type": "code",
   "execution_count": 28,
   "metadata": {},
   "outputs": [],
   "source": [
    "from sklearn.model_selection import train_test_split"
   ]
  },
  {
   "cell_type": "code",
   "execution_count": 29,
   "metadata": {},
   "outputs": [],
   "source": [
    "x_train,x_test,y_train,y_test=train_test_split(X_mat,rev,test_size=0.25)"
   ]
  },
  {
   "cell_type": "code",
   "execution_count": 30,
   "metadata": {},
   "outputs": [],
   "source": [
    "y_train=np.squeeze(y_train)\n",
    "y_test=np.squeeze(y_test)"
   ]
  },
  {
   "cell_type": "code",
   "execution_count": 31,
   "metadata": {},
   "outputs": [
    {
     "name": "stdout",
     "output_type": "stream",
     "text": [
      "(2061, 4500) (2061,) (687, 4500) (687,)\n"
     ]
    }
   ],
   "source": [
    "print(x_train.shape,y_train.shape,x_test.shape,y_test.shape)"
   ]
  },
  {
   "cell_type": "markdown",
   "metadata": {},
   "source": [
    "## Apply Linear SVM "
   ]
  },
  {
   "cell_type": "code",
   "execution_count": 32,
   "metadata": {},
   "outputs": [],
   "source": [
    "from sklearn import svm"
   ]
  },
  {
   "cell_type": "code",
   "execution_count": 33,
   "metadata": {},
   "outputs": [],
   "source": [
    "def fit_classifier(c):\n",
    "    clf_svc=svm.SVC(kernel='linear',gamma='scale',C=c)\n",
    "    tb=time.time()\n",
    "    clf_svc.fit(x_train,y_train)\n",
    "    pred_svc=clf_svc.predict(x_test)\n",
    "    tf=time.time()\n",
    "    co=0\n",
    "    for i,j in zip(pred_svc,y_test):\n",
    "        if i==j:\n",
    "            co+=1\n",
    "    accuracy=co/float(len(y_test))\n",
    "    t=tf-tb\n",
    "    return [accuracy,t]"
   ]
  },
  {
   "cell_type": "code",
   "execution_count": 34,
   "metadata": {},
   "outputs": [
    {
     "name": "stdout",
     "output_type": "stream",
     "text": [
      "C= 1.0 Accuracy= 0.826783114992722   Time= 24.36217188835144\n",
      "C= 1.5 Accuracy= 0.8326055312954876   Time= 22.629724502563477\n",
      "C= 2.0 Accuracy= 0.8311499272197962   Time= 22.190738439559937\n"
     ]
    }
   ],
   "source": [
    "c_values=[1.0,1.5,2.0]\n",
    "for i,ele in enumerate(c_values):\n",
    "    print(\"C=\",c_values[i],end=' ')\n",
    "    l=fit_classifier(ele)\n",
    "    print(\"Accuracy=\",l[0],' ',\"Time=\",l[1])"
   ]
  },
  {
   "cell_type": "markdown",
   "metadata": {},
   "source": [
    "For differenct values of c=`[1.0,1.5,2.0]` the model gives almost equal accuracy 0.83."
   ]
  },
  {
   "cell_type": "markdown",
   "metadata": {},
   "source": [
    "## Apply Stochastic Gradient Descent"
   ]
  },
  {
   "cell_type": "code",
   "execution_count": 35,
   "metadata": {},
   "outputs": [],
   "source": [
    "from sklearn.linear_model import SGDClassifier"
   ]
  },
  {
   "cell_type": "code",
   "execution_count": 36,
   "metadata": {},
   "outputs": [],
   "source": [
    "clf_sgd=SGDClassifier(alpha=0.001,max_iter=1000,tol=1e-4)\n",
    "clf_sgd.fit(x_train,y_train)\n",
    "clf_pred_sgd=clf_sgd.predict(x_test)"
   ]
  },
  {
   "cell_type": "code",
   "execution_count": 37,
   "metadata": {},
   "outputs": [],
   "source": [
    "def accuracy(x,y):\n",
    "    co=0\n",
    "    for i,j in zip(x,y):\n",
    "        if i==j:\n",
    "            co+=1\n",
    "    accuracy=co/float(len(y))\n",
    "    return accuracy"
   ]
  },
  {
   "cell_type": "code",
   "execution_count": 38,
   "metadata": {},
   "outputs": [
    {
     "data": {
      "text/plain": [
       "0.8093158660844251"
      ]
     },
     "execution_count": 38,
     "metadata": {},
     "output_type": "execute_result"
    }
   ],
   "source": [
    "accuracy(clf_pred_sgd,y_test)"
   ]
  },
  {
   "cell_type": "markdown",
   "metadata": {},
   "source": [
    "For hyperparameters `alpha=0.001,max_iter=1000` **SGD Classifier** and **LinearSVM** accuracy difference is subtle."
   ]
  },
  {
   "cell_type": "markdown",
   "metadata": {},
   "source": [
    "## K-fold Cross validation for better choice of <font color='red'>alpha </font> for SGD Classifier"
   ]
  },
  {
   "cell_type": "code",
   "execution_count": 39,
   "metadata": {},
   "outputs": [],
   "source": [
    "from sklearn.model_selection import cross_val_score"
   ]
  },
  {
   "cell_type": "code",
   "execution_count": 40,
   "metadata": {},
   "outputs": [],
   "source": [
    "clf_sgd_k=[SGDClassifier(alpha=0.00001,max_iter=1000,tol=1e-4),SGDClassifier(alpha=0.00005,max_iter=1000,tol=1e-4),SGDClassifier(alpha=0.0001,max_iter=1000,tol=1e-4),SGDClassifier(alpha=0.0005,max_iter=1000,tol=1e-4)]\n",
    "alpha=[0.00001,0.00005,0.0001,0.0005]"
   ]
  },
  {
   "cell_type": "code",
   "execution_count": 41,
   "metadata": {},
   "outputs": [
    {
     "name": "stdout",
     "output_type": "stream",
     "text": [
      "Alpha:0.000010 Accuracy:0.8046120904378601   Time:6.045017719268799\n",
      "Alpha:0.000050 Accuracy:0.8282486079455296   Time:12.364754438400269\n",
      "Alpha:0.000100 Accuracy:0.8359022051681526   Time:18.051059246063232\n",
      "Alpha:0.000500 Accuracy:0.8384357731552274   Time:17.322338342666626\n"
     ]
    }
   ],
   "source": [
    "for i in range(0,len(alpha)):\n",
    "    bf=time.time()\n",
    "    scores=cross_val_score(clf_sgd_k[i],X_mat,rev,cv=10,scoring='accuracy')\n",
    "    af=time.time()\n",
    "    print(\"Alpha:{0:<6f} Accuracy:{1:<20} Time:{2}\".format(alpha[i],scores.mean(),(af-bf)))"
   ]
  },
  {
   "cell_type": "markdown",
   "metadata": {},
   "source": [
    "**Accuracy** of **SGD Classifier** is greater for **<font color='red'>alpha=0.0005</font>** with **Convergence time=18s**"
   ]
  },
  {
   "cell_type": "code",
   "execution_count": null,
   "metadata": {},
   "outputs": [],
   "source": []
  }
 ],
 "metadata": {
  "kernelspec": {
   "display_name": "Python 3",
   "language": "python",
   "name": "python3"
  },
  "language_info": {
   "codemirror_mode": {
    "name": "ipython",
    "version": 3
   },
   "file_extension": ".py",
   "mimetype": "text/x-python",
   "name": "python",
   "nbconvert_exporter": "python",
   "pygments_lexer": "ipython3",
   "version": "3.7.1"
  }
 },
 "nbformat": 4,
 "nbformat_minor": 2
}
